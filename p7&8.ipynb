{
 "cells": [
  {
   "cell_type": "markdown",
   "metadata": {},
   "source": [
    "### Problem 7"
   ]
  },
  {
   "cell_type": "code",
   "execution_count": 2,
   "metadata": {},
   "outputs": [],
   "source": [
    "import numpy as np\n",
    "import math"
   ]
  },
  {
   "cell_type": "markdown",
   "metadata": {},
   "source": [
    "#### Part (b) "
   ]
  },
  {
   "cell_type": "code",
   "execution_count": 3,
   "metadata": {},
   "outputs": [
    {
     "name": "stdout",
     "output_type": "stream",
     "text": [
      "Integer coefficients:\n",
      "[1, -210, 20615, -1256850, 53327946, -1672280820, 40171771630, -756111184500, 11310276995381, -135585182899530, 1307535010540395, -10142299865511450, 63030812099294896, -311333643161390640, 1206647803780373360, -3599979517947607200, 8037811822645051776, -12870931245150988800, 13803759753640704000, -8752948036761600000, 2432902008176640000]\n",
      "Integer coefficients:\n",
      "[1.0, -210.0, 20615.0, -1256850.0, 53327946.0, -1672280820.0, 40171771630.0, -756111184500.0, 11310276995381.0, -135585182899530.0, 1307535010540395.0, -1.014229986551145e+16, 6.30308120992949e+16, -3.1133364316139066e+17, 1.2066478037803732e+18, -3.599979517947607e+18, 8.037811822645051e+18, -1.2870931245150988e+19, 1.3803759753640704e+19, -8.7529480367616e+18, 2.43290200817664e+18]\n"
     ]
    }
   ],
   "source": [
    "from sympy import *\n",
    "from sympy import poly\n",
    "x = symbols('x')\n",
    "# expand the multiplication to get the coefficients\n",
    "w_int = poly(expand((x-1)*(x-2)*(x-3)*(x-4)*(x-5)*(x-6)*(x-7)*(x-8)\n",
    "       *(x-9)*(x-10)*(x-11)*(x-12)*(x-13)*(x-14)\n",
    "       *(x-15)*(x-16)*(x-17)*(x-18)*(x-19)*(x-20)))\n",
    "# store the coeficients as floats\n",
    "w_float = [float(i) for i in w_int.coeffs()]\n",
    "print('Integer coefficients:')\n",
    "print(w_int.coeffs())\n",
    "print('Integer coefficients:')\n",
    "print(w_float)"
   ]
  },
  {
   "cell_type": "code",
   "execution_count": 9,
   "metadata": {},
   "outputs": [
    {
     "name": "stdout",
     "output_type": "stream",
     "text": [
      "Root searching with Newton's method:\n",
      "9.585389646516598\n",
      "Root searching with np.root:\n",
      "[20.64758289+1.18692619j 20.64758289-1.18692619j 18.17159972+2.76910111j\n",
      " 18.17159972-2.76910111j 15.20906456+2.88014671j 15.20906456-2.88014671j\n",
      " 12.75239289+2.12817817j 12.75239289-2.12817817j 10.87966961+1.10932294j\n",
      " 10.87966961-1.10932294j  9.58610174+0.j          9.09787506+0.j\n",
      "  7.99519837+0.j          7.00021182+0.j          5.9999911 +0.j\n",
      "  5.00000046+0.j          3.99999999+0.j          3.        +0.j\n",
      "  2.        +0.j          1.        +0.j        ]\n"
     ]
    }
   ],
   "source": [
    "from scipy.optimize import newton\n",
    "# func_w_int = np.polynomial.Polynomial(w_int.coeffs())\n",
    "# Why the above isn't working?\n",
    "# examing func_w_int(1) will give 160 instead of 0\n",
    "func_w_float = np.poly1d(w_float)\n",
    "res = newton(func_w_float, 21, maxiter=50000)\n",
    "print(\"Root searching with Newton's method:\")\n",
    "print(res)\n",
    "# find roots using np.roots()\n",
    "print(\"Root searching with np.root:\")\n",
    "print(np.roots(w_float))"
   ]
  },
  {
   "cell_type": "markdown",
   "metadata": {},
   "source": [
    "#### Part (c) & (d)"
   ]
  },
  {
   "cell_type": "code",
   "execution_count": 10,
   "metadata": {},
   "outputs": [
    {
     "name": "stdout",
     "output_type": "stream",
     "text": [
      "delta = 1e-08\n",
      "Newton's method: 9.585389646516598\n",
      "Root with largest real part using np.root: (20.647582887998496+1.1869261883090942j)\n",
      "delta = 1e-06\n",
      "Newton's method: 7.752713003402644\n",
      "Root with largest real part using np.root: (23.149016041505767+2.740984630381872j)\n",
      "delta = 0.0001\n",
      "Newton's method: 5.969334849605957\n",
      "Root with largest real part using np.root: (28.40021241591655+6.5104342165628175j)\n",
      "delta = 0.01\n",
      "Newton's method: 5.469592915093453\n",
      "Root with largest real part using np.root: (38.478183617151515+20.83432358712749j)\n"
     ]
    }
   ],
   "source": [
    "for delta in (10**(-8), 10**(-6), 10**(-4), 10**(-2)):\n",
    "    print('delta =', delta)\n",
    "    w_float[0] = 1 + delta\n",
    "    func_w_float = np.poly1d(w_float)\n",
    "    res = newton(func_w_float, 21, maxiter=50000)\n",
    "    print(\"Newton's method:\", res)\n",
    "    print(\"Root with largest real part using np.root:\", np.roots(w_float)[0])"
   ]
  },
  {
   "cell_type": "code",
   "execution_count": 11,
   "metadata": {},
   "outputs": [
    {
     "name": "stdout",
     "output_type": "stream",
     "text": [
      "[20.84691022+0.j         19.50244237+1.94033198j 19.50244237-1.94033198j\n",
      " 16.73074488+2.8126249j  16.73074488-2.8126249j  13.99240668+2.51882443j\n",
      " 13.99240668-2.51882443j 11.79389059+1.65247714j 11.79389059-1.65247714j\n",
      " 10.09545563+0.64493282j 10.09545563-0.64493282j  8.91581637+0.j\n",
      "  8.00777203+0.j          6.99960207+0.j          6.00002048+0.j\n",
      "  4.99999857+0.j          4.00000009+0.j          3.        +0.j\n",
      "  2.        +0.j          1.        +0.j        ]\n"
     ]
    }
   ],
   "source": [
    "w_float[0] = 1.\n",
    "w_float[1] = - 210 - 2**(-23)\n",
    "func_w_float = np.poly1d(w_float)\n",
    "print(np.roots(w_float))"
   ]
  },
  {
   "cell_type": "markdown",
   "metadata": {},
   "source": [
    "Comment: <br />\n",
    "In both cases, the roots are changed and become complex.\n",
    "#### Part (e)"
   ]
  },
  {
   "cell_type": "code",
   "execution_count": 12,
   "metadata": {},
   "outputs": [
    {
     "name": "stdout",
     "output_type": "stream",
     "text": [
      "cond14 = -1332968434.15\n",
      "cond16 = -2407513979.74\n",
      "cond17 = 1904402145.26\n",
      "cond20 = -43099804.12\n"
     ]
    }
   ],
   "source": [
    "# r = 14\n",
    "for r in [14, 16, 17, 20]:\n",
    "    p = (x-1)*(x-2)*(x-3)*(x-4)*(x-5)*(x-6)*(x-7)*(x-8)*(x-9)*(x-10)*(x-11)*(x-12)*(x-13)*(x-14)*(x-15)*(x-16)*(x-17)*(x-18)*(x-19)*(x-20)\n",
    "    p_prime = p/(x-r)\n",
    "    denominator = p_prime.subs(x, r)\n",
    "    sum = 0\n",
    "    for i in range(0, 20):\n",
    "        sum = sum + w_int.coeffs()[20 - i]*(r**(i-1)) # Here using the int coefficients\n",
    "    cond = sum/denominator\n",
    "    print(\"cond%d = %10.2f\" %(r, cond))"
   ]
  },
  {
   "cell_type": "markdown",
   "metadata": {},
   "source": [
    "A clever result cannot help us out. Actually when evaluating the $cond \\Omega_{k}$ quantity, we assume the numbers are machine numbers and there is no rounding error. The large condition number does not come from the algorithm we use, rather, it is intrinsic. The problem itself is ill-conditioned."
   ]
  },
  {
   "cell_type": "markdown",
   "metadata": {},
   "source": [
    "#### Problem 8"
   ]
  },
  {
   "cell_type": "code",
   "execution_count": 13,
   "metadata": {},
   "outputs": [
    {
     "name": "stdout",
     "output_type": "stream",
     "text": [
      "Compute with recurrence relation: 0.12380383076256993\n",
      "Compute with built in function: 0.12380383076256996\n"
     ]
    }
   ],
   "source": [
    "y1 = 0.\n",
    "n = 20\n",
    "for i in range(32, n, -1):\n",
    "    y1 = (math.e - y1)/i\n",
    "print('Compute with recurrence relation:', y1)\n",
    "from scipy.integrate import quad\n",
    "def integrand(x):\n",
    "     return x**n * math.e**x\n",
    "y2 = quad(integrand, 0, 1)\n",
    "print('Compute with built in function:', y2[0])"
   ]
  }
 ],
 "metadata": {
  "kernelspec": {
   "display_name": "Python 3",
   "language": "python",
   "name": "python3"
  },
  "language_info": {
   "codemirror_mode": {
    "name": "ipython",
    "version": 3
   },
   "file_extension": ".py",
   "mimetype": "text/x-python",
   "name": "python",
   "nbconvert_exporter": "python",
   "pygments_lexer": "ipython3",
   "version": "3.7.1"
  }
 },
 "nbformat": 4,
 "nbformat_minor": 2
}
