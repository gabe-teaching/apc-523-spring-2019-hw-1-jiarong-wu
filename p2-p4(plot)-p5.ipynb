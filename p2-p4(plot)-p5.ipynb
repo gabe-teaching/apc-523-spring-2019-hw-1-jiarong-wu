{
 "cells": [
  {
   "cell_type": "code",
   "execution_count": 5,
   "metadata": {},
   "outputs": [],
   "source": [
    "from decimal import Decimal\n",
    "import numpy as np\n",
    "import matplotlib.pyplot as plt\n",
    "import copy\n",
    "from math import e"
   ]
  },
  {
   "cell_type": "markdown",
   "metadata": {},
   "source": [
    "### Problem 2"
   ]
  },
  {
   "cell_type": "markdown",
   "metadata": {},
   "source": [
    "#### Part (a)&(b)"
   ]
  },
  {
   "cell_type": "code",
   "execution_count": 10,
   "metadata": {},
   "outputs": [
    {
     "name": "stdout",
     "output_type": "stream",
     "text": [
      "[1.0000e+00 5.5000e+00 1.5125e+01 2.7730e+01 3.8129e+01 4.1942e+01\n",
      " 3.8447e+01 3.0208e+01 2.0768e+01 1.2692e+01 6.9805e+00 3.4902e+00\n",
      " 1.5997e+00 6.7679e-01 2.6588e-01 9.7484e-02 3.3510e-02 1.0842e-02\n",
      " 3.3128e-03 9.5898e-04 2.6372e-04 6.9070e-05 1.7269e-05 4.1297e-06\n",
      " 9.4638e-07 2.0821e-07 4.4043e-08 8.9715e-09 1.7623e-09 3.3422e-10\n",
      " 0.0000e+00]\n",
      "Adding from left to right:\n",
      "Result converges at n = 18\n",
      "e^x with 5-digit mantissa = 244.71\n",
      "e^x with built in func = 244.69193226422033\n",
      "relative error = 0.000074\n"
     ]
    }
   ],
   "source": [
    "# rounding sub function\n",
    "def rounding(x_origin):\n",
    "    n = 5\n",
    "    s = '%.'+str(n)+'g'\n",
    "    x_float = float(s % x_origin)\n",
    "    return x_float\n",
    "# compute the denominator    \n",
    "def factorial(n):\n",
    "    fac = 1.0\n",
    "    fac = rounding(fac)\n",
    "    for i in range(1, n+1):\n",
    "        fac = fac*i\n",
    "        fac = rounding(fac)\n",
    "    return fac\n",
    "# compute the numerator\n",
    "def exponential(x, n):\n",
    "    exp = 1.\n",
    "    x = rounding(x)\n",
    "    for i in range(0, n):\n",
    "        exp = exp * x\n",
    "        exp = rounding(exp)\n",
    "    return exp\n",
    "# compute f(x) = e^x\n",
    "func_ex = 0\n",
    "x = 5.5\n",
    "n = 30\n",
    "# compute each term \n",
    "term = np.zeros(31, dtype=float)\n",
    "for i in range(0, n):\n",
    "    term[i] = exponential(x, i)/factorial(i)\n",
    "    term[i] = rounding(term[i])\n",
    "print(term)\n",
    "# Adding from left to right\n",
    "print('Adding from left to right:')   \n",
    "for i in range(0, n):\n",
    "    func_ex_laststep = func_ex\n",
    "    func_ex = 0\n",
    "    for j in range(0, i+1):\n",
    "        func_ex = func_ex + term[j]\n",
    "        func_ex = rounding(func_ex)\n",
    "    if func_ex_laststep == func_ex:\n",
    "        print('Result converges at n =', i)\n",
    "        break\n",
    "print('e^x with 5-digit mantissa =', func_ex) \n",
    "print('e^x with built in func =', e**x) \n",
    "err = abs(func_ex - e**x)/(e**x)\n",
    "print('relative error = %0.6f' % err)"
   ]
  },
  {
   "cell_type": "markdown",
   "metadata": {},
   "source": [
    "#### Part (c)"
   ]
  },
  {
   "cell_type": "code",
   "execution_count": 11,
   "metadata": {},
   "outputs": [
    {
     "name": "stdout",
     "output_type": "stream",
     "text": [
      "Adding from right to left:\n",
      "Result converges at n = 17\n",
      "e^x with 5-digit mantissa = 244.69\n",
      "e^x with built in func = 244.69193226422033\n",
      "relative error = 0.000008\n"
     ]
    }
   ],
   "source": [
    "# Adding from right to left\n",
    "print('Adding from right to left:')\n",
    "func_ex = 0\n",
    "x = 5.5\n",
    "n = 30\n",
    "for i in range(0, n):\n",
    "    func_ex_laststep = func_ex\n",
    "    func_ex = 0\n",
    "    for j in range(i, -1, -1):\n",
    "        func_ex = func_ex + term[j]\n",
    "        func_ex = rounding(func_ex)\n",
    "    if func_ex_laststep == func_ex:\n",
    "        print('Result converges at n =', i)\n",
    "        break\n",
    "print('e^x with 5-digit mantissa =', func_ex) \n",
    "print('e^x with built in func =', e**x) \n",
    "err = abs(func_ex - e**x)/(e**x)\n",
    "print('relative error = %0.6f' % err)"
   ]
  },
  {
   "cell_type": "markdown",
   "metadata": {},
   "source": [
    "#### Part (d)"
   ]
  },
  {
   "cell_type": "code",
   "execution_count": 12,
   "metadata": {},
   "outputs": [
    {
     "name": "stdout",
     "output_type": "stream",
     "text": [
      "[ 1.0000e+00 -5.5000e+00  1.5125e+01 -2.7730e+01  3.8129e+01 -4.1942e+01\n",
      "  3.8447e+01 -3.0208e+01  2.0768e+01 -1.2692e+01  6.9805e+00 -3.4902e+00\n",
      "  1.5997e+00 -6.7679e-01  2.6588e-01 -9.7484e-02  3.3510e-02 -1.0842e-02\n",
      "  3.3128e-03 -9.5898e-04  2.6372e-04 -6.9070e-05  1.7269e-05 -4.1297e-06\n",
      "  9.4638e-07 -2.0821e-07  4.4043e-08 -8.9715e-09  1.7623e-09 -3.3422e-10\n",
      "  0.0000e+00]\n"
     ]
    }
   ],
   "source": [
    "# Flip the sign of the odd-index terms, which is equivalent to set x = -5.5\n",
    "term_neg = np.zeros(31, dtype=float)\n",
    "for i in range(0, n):\n",
    "    term_neg[i] = (-1)**i*term[i]\n",
    "print(term_neg)"
   ]
  },
  {
   "cell_type": "code",
   "execution_count": 13,
   "metadata": {},
   "outputs": [
    {
     "name": "stdout",
     "output_type": "stream",
     "text": [
      "Adding from left to right:\n",
      "Result converges at n = 26\n",
      "e^x with 5-digit mantissa = 0.0038363\n",
      "e^x with built in func = 0.004086771438464068\n",
      "relative error = 0.0613\n",
      "Adding from right to left:\n",
      "Result converges at n = 20\n",
      "e^x with 5-digit mantissa = 0.004\n",
      "e^x with built in func = 0.004086771438464068\n",
      "relative error = 0.0212\n"
     ]
    }
   ],
   "source": [
    "# Always adding from left to right\n",
    "print('Adding from left to right:')  \n",
    "func_ex = 0\n",
    "for i in range(0, n):\n",
    "    func_ex_laststep = func_ex\n",
    "    func_ex = 0\n",
    "    for j in range(0, i+1):\n",
    "        func_ex = func_ex + term_neg[j]\n",
    "        func_ex = rounding(func_ex)\n",
    "    if func_ex_laststep == func_ex:\n",
    "        print('Result converges at n =', i)\n",
    "        break\n",
    "print('e^x with 5-digit mantissa =', func_ex) \n",
    "print('e^x with built in func =', e**(-5.5)) \n",
    "err = abs(func_ex - e**(-5.5))/e**(-5.5)\n",
    "print('relative error = %0.4f' % err)\n",
    "# Always adding from right to left\n",
    "func_ex = 0\n",
    "print('Adding from right to left:')   \n",
    "for i in range(0, n):\n",
    "    func_ex_laststep = func_ex\n",
    "    func_ex = 0\n",
    "    for j in range(i, -1, -1):\n",
    "        func_ex = func_ex + term_neg[j]\n",
    "        func_ex = rounding(func_ex)\n",
    "    if func_ex_laststep == func_ex:\n",
    "        print('Result converges at n =', i)\n",
    "        break\n",
    "print('e^x with 5-digit mantissa =', func_ex) \n",
    "print('e^x with built in func =', e**(-5.5)) \n",
    "err = abs(func_ex - e**(-5.5))/e**(-5.5)\n",
    "print('relative error = %0.4f' % err)"
   ]
  },
  {
   "cell_type": "code",
   "execution_count": 14,
   "metadata": {},
   "outputs": [
    {
     "name": "stdout",
     "output_type": "stream",
     "text": [
      "Adding positive from left to right, negative from right to left:\n",
      "Result converges at n = 18\n",
      "e^x with 5-digit mantissa = 0.0\n",
      "e^x with built in func = 0.004086771438464068\n",
      "relative error = 1.0000\n",
      "Adding positive from right to left, negative from left to right:\n",
      "Result converges at n = 19\n",
      "e^x with 5-digit mantissa = 0.01\n",
      "e^x with built in func = 0.004086771438464068\n",
      "relative error = 1.4469\n"
     ]
    }
   ],
   "source": [
    "# Adding positive from left to right, negative from right to left\n",
    "func_ex = 0\n",
    "print('Adding positive from left to right, negative from right to left:')   \n",
    "for i in range(0, n):\n",
    "    func_ex_laststep = func_ex\n",
    "    func_ex = 0\n",
    "    func_ex_1 = 0\n",
    "    func_ex_2 = 0\n",
    "    for j in range(0, i+1):\n",
    "        if term_neg[j] >= 0:\n",
    "            func_ex_1 = func_ex_1 + term_neg[j] \n",
    "            func_ex_1 = rounding(func_ex_1)\n",
    "    for j in range(i, -1, -1):\n",
    "        if term_neg[j] <= 0:\n",
    "            func_ex_2 = func_ex_2 + term_neg[j] \n",
    "            func_ex_2 = rounding(func_ex_2)\n",
    "    func_ex = func_ex_1 + func_ex_2\n",
    "    func_ex = rounding(func_ex)\n",
    "    if func_ex_laststep == func_ex:\n",
    "        print('Result converges at n =', i)\n",
    "        break\n",
    "print('e^x with 5-digit mantissa =', func_ex) \n",
    "print('e^x with built in func =', e**(-5.5)) \n",
    "err = abs(func_ex - e**(-5.5))/e**(-5.5)\n",
    "print('relative error = %0.4f' % err)\n",
    "# Adding positive from right to left, negative from left to right\n",
    "print('Adding positive from right to left, negative from left to right:')\n",
    "func_ex = 0\n",
    "for i in range(0, n):\n",
    "    func_ex_laststep = func_ex\n",
    "    func_ex = 0\n",
    "    func_ex_1 = 0\n",
    "    func_ex_2 = 0\n",
    "    for j in range(0, i+1):\n",
    "        if term_neg[j] <= 0:\n",
    "            func_ex_1 = func_ex_1 + term_neg[j] \n",
    "            func_ex_1 = rounding(func_ex_1)\n",
    "    for j in range(i, -1, -1):\n",
    "        if term_neg[j] >= 0:\n",
    "            func_ex_2 = func_ex_2 + term_neg[j] \n",
    "            func_ex_2 = rounding(func_ex_2)\n",
    "    func_ex = func_ex_1 + func_ex_2\n",
    "    func_ex = rounding(func_ex)\n",
    "    if func_ex_laststep == func_ex:\n",
    "        print('Result converges at n =', i)\n",
    "        break\n",
    "print('e^x with 5-digit mantissa =', func_ex) \n",
    "print('e^x with built in func =', e**(-5.5)) \n",
    "err = abs(func_ex - e**(-5.5))/e**(-5.5)\n",
    "print('relative error = %0.4f' % err)"
   ]
  },
  {
   "cell_type": "markdown",
   "metadata": {},
   "source": [
    "#### Comment for (d):\n",
    "Adding positive from left to right, negative from right to left converges the fast.\n",
    "Adding from right to left gives the lowest error.\n",
    "When the exponential is positive, adding from right to left also gives relatively smaller error and faster convergence.\n",
    "\n",
    "#### Part (e):\n",
    "We can compute $e^{-x}$ by $\\frac{1}{e^{x}}$\n",
    "In this case with 5-digit mantissa we have $e^{-5.5}=1/e^{5.5}=1/244.69=4.0868\\times10^{-3}$ which gives pretty satisfactory result."
   ]
  },
  {
   "cell_type": "markdown",
   "metadata": {},
   "source": [
    "### Problem 4 - Plot"
   ]
  },
  {
   "cell_type": "code",
   "execution_count": 15,
   "metadata": {},
   "outputs": [
    {
     "data": {
      "image/png": "[encoded data removed]",
      "text/plain": [
       "<Figure size 432x288 with 1 Axes>"
      ]
     },
     "metadata": {
      "needs_background": "light"
     },
     "output_type": "display_data"
    }
   ],
   "source": [
    "# rr = np.arange(0.001, 1, 0.001)\n",
    "rr = np.linspace(0.01, 1, num=101)\n",
    "def y1(x): \n",
    "    return x / (np.exp(x) + 1.) \n",
    "def y2(x): \n",
    "    return (np.exp(x)) / x \n",
    "\n",
    "plt.plot(rr, y1(rr))\n",
    "plt.plot(rr, y2(rr))\n",
    "plt.legend(['condf', 'condA'])\n",
    "plt.show()"
   ]
  },
  {
   "cell_type": "markdown",
   "metadata": {},
   "source": [
    "### Problem 5"
   ]
  },
  {
   "cell_type": "code",
   "execution_count": 21,
   "metadata": {},
   "outputs": [
    {
     "name": "stdout",
     "output_type": "stream",
     "text": [
      "0.0\n",
      "[2, 2.5937424601000023, 2.7048138294215285, 2.7169239322355936, 2.7181459268249255, 2.7182682371922975, 2.7182804690957534, 2.7182816941320818, 2.7182817983473577, 2.7182820520115603, 2.7182820532347876, 2.71828205335711, 2.7185234960372378, 2.716110034086901, 2.716110034087023, 3.035035206549262, 1.0, 1.0]\n",
      "n = 1.00E+17\n"
     ]
    }
   ],
   "source": [
    "elim = list()\n",
    "elim.append(2) # n =1\n",
    "n_stop = 1\n",
    "for i in range(1, 100): \n",
    "    n = 10**i\n",
    "    e = (1+1/n)**n\n",
    "    elim.append(e)\n",
    "    diff = elim[i] - elim[i-1]\n",
    "    if abs(diff) < 10**(-13):\n",
    "        n_stop = n\n",
    "        break\n",
    "print(diff)\n",
    "print(elim)\n",
    "print('n = ''%.2E' % Decimal(n))"
   ]
  },
  {
   "cell_type": "markdown",
   "metadata": {},
   "source": [
    "### Analysis for Problem 5:\n",
    "An explanation that accounts for why the value converges to the value it did:\n",
    "Because double precision only has 52 digits for mantissa which is approximately 15 decimal figures. When n increases to 16 $1/10^n$ is actually stored as 0, therefore $(1+1/10^n)^n$ becomes 1. <br />\n",
    "In other word, there is a limit on how accurate $(1+1/10^n)^n$ can be as an approximate of e. With double precision 13-sigfig cannot be reached."
   ]
  },
  {
   "cell_type": "markdown",
   "metadata": {},
   "source": [
    "### Problem 6"
   ]
  },
  {
   "cell_type": "code",
   "execution_count": 17,
   "metadata": {},
   "outputs": [
    {
     "data": {
      "image/png": "[encoded data removed]",
      "text/plain": [
       "<Figure size 432x288 with 1 Axes>"
      ]
     },
     "metadata": {
      "needs_background": "light"
     },
     "output_type": "display_data"
    }
   ],
   "source": [
    "x = np.linspace(1, 10, 1001, dtype='float64')\n",
    "x1 = np.linspace(1, 10, 1001, dtype='float64')\n",
    "for i in range(0,52):\n",
    "    x1 = x1**0.5\n",
    "    i = i+1\n",
    "x2 = copy.deepcopy(x1)\n",
    "for i in range(0,52):\n",
    "    x2 = x2**2\n",
    "    i = i+1 \n",
    "plt.plot(x, x1)\n",
    "plt.plot(x, x2)\n",
    "plt.plot(x, x, '-')\n",
    "plt.legend(['sqrt 52 times', 'sq 52 times'])\n",
    "plt.show()"
   ]
  },
  {
   "cell_type": "code",
   "execution_count": 18,
   "metadata": {},
   "outputs": [
    {
     "name": "stdout",
     "output_type": "stream",
     "text": [
      "[1.0, 2.719, 7.39]\n"
     ]
    }
   ],
   "source": [
    "x_exact = list()\n",
    "for i in range(0, 1001): \n",
    "    if abs(x[i] - x2[i])/(x[i]+0.0000000001) < 10**(-3):\n",
    "        x_exact.append(x[i])\n",
    "print(x_exact)"
   ]
  },
  {
   "cell_type": "code",
   "execution_count": 19,
   "metadata": {},
   "outputs": [
    {
     "data": {
      "image/png": "[encoded data removed]",
      "text/plain": [
       "<Figure size 432x288 with 1 Axes>"
      ]
     },
     "metadata": {
      "needs_background": "light"
     },
     "output_type": "display_data"
    }
   ],
   "source": [
    "x = np.linspace(1, 10, 1001, dtype='float64')\n",
    "x1 = np.linspace(1, 10, 1001, dtype='float64')\n",
    "for i in range(0,53):\n",
    "    x1 = x1**0.5\n",
    "    i = i+1\n",
    "x2 = copy.deepcopy(x1)\n",
    "for i in range(0,53):\n",
    "    x2 = x2**2\n",
    "    i = i+1 \n",
    "plt.plot(x, x1)\n",
    "plt.plot(x, x2)\n",
    "plt.plot(x, x, '-')\n",
    "plt.legend(['sqrt 53 times', 'sq 53 times'])\n",
    "plt.show()"
   ]
  },
  {
   "cell_type": "code",
   "execution_count": 20,
   "metadata": {},
   "outputs": [
    {
     "name": "stdout",
     "output_type": "stream",
     "text": [
      "[1.0, 7.39]\n"
     ]
    }
   ],
   "source": [
    "x_exact = list()\n",
    "for i in range(0, 1001): \n",
    "    if abs(x[i] - x2[i])/(x[i]+0.0000000001) < 10**(-3):\n",
    "        x_exact.append(x[i])\n",
    "print(x_exact)"
   ]
  },
  {
   "cell_type": "markdown",
   "metadata": {},
   "source": [
    "### Ananlysis of Problem 6:\n",
    "When doing the operation 52 times, the \"close points\" are: [1.0, 2.719, 7.39]  <br />\n",
    "When doing 53 times: [1.0, 7.39] <br /> \n",
    "\n",
    "We find some interesting numbers here:\n",
    "$2.719 \\simeq e$, $7.39 \\simeq e^2$ ... apparently the calculation is done with e as the base number. Note that the number of sqaure root operation 52 is the significant digits in double precision binary representation. <br />\n",
    "Therefore we can see what happened is that there are a few steps in the square root implementation: <br />\n",
    "1. A number x is handed in and ln(x) is computed\n",
    "2. ln(x) is transformed into its double-precision binary representation \n",
    "3. ln(x) is devided by 2, which is equal to moving the mantissa $\\sum_{l=1}^{52} b_{l}\\times 2^{-l}$one digit to the right and rounding up\n",
    "4. transform ln(x)/2 back by e^(ln(x)/2) = x^(1/2)\n",
    "\n",
    "After 52 operations, ln(x) almost loses all its significant figures no matter where it started with. Only 2^0 and 2^1 survive which corresponds to e^1 and e^2. If we push even further, only 2^1 survives. This accounts for the steps we are seeing in the plots respectively."
   ]
  }
 ],
 "metadata": {
  "kernelspec": {
   "display_name": "Python 3",
   "language": "python",
   "name": "python3"
  },
  "language_info": {
   "codemirror_mode": {
    "name": "ipython",
    "version": 3
   },
   "file_extension": ".py",
   "mimetype": "text/x-python",
   "name": "python",
   "nbconvert_exporter": "python",
   "pygments_lexer": "ipython3",
   "version": "3.7.1"
  }
 },
 "nbformat": 4,
 "nbformat_minor": 2
}
